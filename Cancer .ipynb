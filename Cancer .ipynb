{
 "cells": [
  {
   "cell_type": "markdown",
   "id": "6a342c93",
   "metadata": {},
   "source": [
    "# Paria Rezayan\n",
    "# Dimensionality Reduction Using PCA and LDA for a Classification Task\n",
    "\n",
    "# Introduction:\n",
    "The main objective of this project is to classify breast cancer patients and healthy controls using machine learning techniques. The dataset used in this project can be found on https://archive.ics.uci.edu/ml/datasets/Breast+Cancer+Coimbra, and contains measurements such as age, BMI, glucose, insulin, and other biomarkers.\n",
    "\n",
    "# Dataset:\n",
    "The dataset consists of 116 rows and 10 columns. The columns contain numerical values, and there are no null values in the dataset.\n",
    "\n",
    "# Objective:\n",
    "The objective of this project is to build a classification model that can accurately distinguish between breast cancer patients and healthy controls. The dataset is preprocessed, and two different dimensionality reduction techniques, PCA and LDA, are applied to identify the most important features.\n",
    "\n",
    "# Methodology:\n",
    "1. Preprocessed the dataset by scaling it and splitting it into training and testing sets\n",
    "2. Used PCA to identify the most important features in the dataset by transforming the data into a new set of variables\n",
    "3. Applied logistic regression to the dataset after being condensed using PCA\n",
    "4. Evaluated the model by calculating various classification metrics such as accuracy, precision, recall, F1 score, and ROC AUC score\n",
    "5. Used LDA for finding a linear combination of features that best discriminates between different classes\n",
    "6. Apploed logistic regression to the dataset after being condensed using LDA\n",
    "7. Evaluated the model by calculating various classification metrics such as accuracy, precision, recall, F1 score, and ROC AUC score\n",
    "8. Compared the two classification models after PCA (Model 1) and LDA (Model 2)"
   ]
  },
  {
   "cell_type": "markdown",
   "id": "c504b4e6",
   "metadata": {},
   "source": [
    "# Loading and Exploring the Dataset\n",
    "\n",
    "In this section, the necessary libraries and the dataset are loaded, and then several exploratory methods are used to familiarize ourselves with the data:"
   ]
  },
  {
   "cell_type": "code",
   "execution_count": 2,
   "id": "22bb699a",
   "metadata": {},
   "outputs": [],
   "source": [
    "# importing the necessary libraries\n",
    "import numpy as np \n",
    "import pandas as pd\n",
    "import matplotlib.pyplot as plt\n",
    "import sklearn \n",
    "from sklearn.preprocessing import StandardScaler\n",
    "from sklearn.model_selection import train_test_split\n",
    "from sklearn.decomposition import PCA\n",
    "from sklearn.discriminant_analysis import LinearDiscriminantAnalysis\n",
    "from sklearn.linear_model import LogisticRegression\n",
    "from sklearn.metrics import confusion_matrix\n",
    "from sklearn.metrics import accuracy_score, precision_score, recall_score, f1_score, roc_auc_score, roc_curve\n",
    "import seaborn as sns "
   ]
  },
  {
   "cell_type": "code",
   "execution_count": 3,
   "id": "c3b73ea3",
   "metadata": {},
   "outputs": [],
   "source": [
    "# loading the data \n",
    "data = pd.read_csv('breast_cancer.csv')"
   ]
  },
  {
   "cell_type": "code",
   "execution_count": 5,
   "id": "1378c4f8",
   "metadata": {},
   "outputs": [
    {
     "data": {
      "text/plain": [
       "(116, 10)"
      ]
     },
     "execution_count": 5,
     "metadata": {},
     "output_type": "execute_result"
    }
   ],
   "source": [
    "# getting to know the dataset\n",
    "data.shape"
   ]
  },
  {
   "cell_type": "markdown",
   "id": "5d170449",
   "metadata": {},
   "source": [
    "The raw data consists of 116 rows and 10 columns."
   ]
  },
  {
   "cell_type": "code",
   "execution_count": 6,
   "id": "0491ea17",
   "metadata": {},
   "outputs": [
    {
     "name": "stdout",
     "output_type": "stream",
     "text": [
      "<class 'pandas.core.frame.DataFrame'>\n",
      "RangeIndex: 116 entries, 0 to 115\n",
      "Data columns (total 10 columns):\n",
      " #   Column          Non-Null Count  Dtype  \n",
      "---  ------          --------------  -----  \n",
      " 0   Age             116 non-null    int64  \n",
      " 1   BMI             116 non-null    float64\n",
      " 2   Glucose         116 non-null    int64  \n",
      " 3   Insulin         116 non-null    float64\n",
      " 4   HOMA            116 non-null    float64\n",
      " 5   Leptin          116 non-null    float64\n",
      " 6   Adiponectin     116 non-null    float64\n",
      " 7   Resistin        116 non-null    float64\n",
      " 8   MCP.1           116 non-null    float64\n",
      " 9   Classification  116 non-null    int64  \n",
      "dtypes: float64(7), int64(3)\n",
      "memory usage: 9.2 KB\n"
     ]
    }
   ],
   "source": [
    "data.info()"
   ]
  },
  {
   "cell_type": "markdown",
   "id": "ce681f26",
   "metadata": {},
   "source": [
    "Attribute Information:\n",
    "1. Age (years)\n",
    "2. BMI (kg/m2)\n",
    "3. Glucose (mg/dL)\n",
    "4. Insulin (µU/mL)\n",
    "5. HOMA\n",
    "6. Leptin (ng/mL)\n",
    "7. Adiponectin (µg/mL)\n",
    "8. Resistin (ng/mL)\n",
    "9. MCP-1(pg/dL)\n",
    "\n",
    "Labels:\n",
    "1 = Healthy controls\n",
    "2 = Patients"
   ]
  },
  {
   "cell_type": "code",
   "execution_count": 7,
   "id": "4410a209",
   "metadata": {},
   "outputs": [
    {
     "data": {
      "text/html": [
       "<div>\n",
       "<style scoped>\n",
       "    .dataframe tbody tr th:only-of-type {\n",
       "        vertical-align: middle;\n",
       "    }\n",
       "\n",
       "    .dataframe tbody tr th {\n",
       "        vertical-align: top;\n",
       "    }\n",
       "\n",
       "    .dataframe thead th {\n",
       "        text-align: right;\n",
       "    }\n",
       "</style>\n",
       "<table border=\"1\" class=\"dataframe\">\n",
       "  <thead>\n",
       "    <tr style=\"text-align: right;\">\n",
       "      <th></th>\n",
       "      <th>Age</th>\n",
       "      <th>BMI</th>\n",
       "      <th>Glucose</th>\n",
       "      <th>Insulin</th>\n",
       "      <th>HOMA</th>\n",
       "      <th>Leptin</th>\n",
       "      <th>Adiponectin</th>\n",
       "      <th>Resistin</th>\n",
       "      <th>MCP.1</th>\n",
       "      <th>Classification</th>\n",
       "    </tr>\n",
       "  </thead>\n",
       "  <tbody>\n",
       "    <tr>\n",
       "      <th>0</th>\n",
       "      <td>48</td>\n",
       "      <td>23.500000</td>\n",
       "      <td>70</td>\n",
       "      <td>2.707</td>\n",
       "      <td>0.467409</td>\n",
       "      <td>8.8071</td>\n",
       "      <td>9.702400</td>\n",
       "      <td>7.99585</td>\n",
       "      <td>417.114</td>\n",
       "      <td>1</td>\n",
       "    </tr>\n",
       "    <tr>\n",
       "      <th>1</th>\n",
       "      <td>83</td>\n",
       "      <td>20.690495</td>\n",
       "      <td>92</td>\n",
       "      <td>3.115</td>\n",
       "      <td>0.706897</td>\n",
       "      <td>8.8438</td>\n",
       "      <td>5.429285</td>\n",
       "      <td>4.06405</td>\n",
       "      <td>468.786</td>\n",
       "      <td>1</td>\n",
       "    </tr>\n",
       "    <tr>\n",
       "      <th>2</th>\n",
       "      <td>82</td>\n",
       "      <td>23.124670</td>\n",
       "      <td>91</td>\n",
       "      <td>4.498</td>\n",
       "      <td>1.009651</td>\n",
       "      <td>17.9393</td>\n",
       "      <td>22.432040</td>\n",
       "      <td>9.27715</td>\n",
       "      <td>554.697</td>\n",
       "      <td>1</td>\n",
       "    </tr>\n",
       "    <tr>\n",
       "      <th>3</th>\n",
       "      <td>68</td>\n",
       "      <td>21.367521</td>\n",
       "      <td>77</td>\n",
       "      <td>3.226</td>\n",
       "      <td>0.612725</td>\n",
       "      <td>9.8827</td>\n",
       "      <td>7.169560</td>\n",
       "      <td>12.76600</td>\n",
       "      <td>928.220</td>\n",
       "      <td>1</td>\n",
       "    </tr>\n",
       "    <tr>\n",
       "      <th>4</th>\n",
       "      <td>86</td>\n",
       "      <td>21.111111</td>\n",
       "      <td>92</td>\n",
       "      <td>3.549</td>\n",
       "      <td>0.805386</td>\n",
       "      <td>6.6994</td>\n",
       "      <td>4.819240</td>\n",
       "      <td>10.57635</td>\n",
       "      <td>773.920</td>\n",
       "      <td>1</td>\n",
       "    </tr>\n",
       "  </tbody>\n",
       "</table>\n",
       "</div>"
      ],
      "text/plain": [
       "   Age        BMI  Glucose  Insulin      HOMA   Leptin  Adiponectin  Resistin   \n",
       "0   48  23.500000       70    2.707  0.467409   8.8071     9.702400   7.99585  \\\n",
       "1   83  20.690495       92    3.115  0.706897   8.8438     5.429285   4.06405   \n",
       "2   82  23.124670       91    4.498  1.009651  17.9393    22.432040   9.27715   \n",
       "3   68  21.367521       77    3.226  0.612725   9.8827     7.169560  12.76600   \n",
       "4   86  21.111111       92    3.549  0.805386   6.6994     4.819240  10.57635   \n",
       "\n",
       "     MCP.1  Classification  \n",
       "0  417.114               1  \n",
       "1  468.786               1  \n",
       "2  554.697               1  \n",
       "3  928.220               1  \n",
       "4  773.920               1  "
      ]
     },
     "execution_count": 7,
     "metadata": {},
     "output_type": "execute_result"
    }
   ],
   "source": [
    "data.head()"
   ]
  },
  {
   "cell_type": "code",
   "execution_count": 8,
   "id": "1f367e4b",
   "metadata": {},
   "outputs": [
    {
     "data": {
      "text/html": [
       "<div>\n",
       "<style scoped>\n",
       "    .dataframe tbody tr th:only-of-type {\n",
       "        vertical-align: middle;\n",
       "    }\n",
       "\n",
       "    .dataframe tbody tr th {\n",
       "        vertical-align: top;\n",
       "    }\n",
       "\n",
       "    .dataframe thead th {\n",
       "        text-align: right;\n",
       "    }\n",
       "</style>\n",
       "<table border=\"1\" class=\"dataframe\">\n",
       "  <thead>\n",
       "    <tr style=\"text-align: right;\">\n",
       "      <th></th>\n",
       "      <th>Age</th>\n",
       "      <th>BMI</th>\n",
       "      <th>Glucose</th>\n",
       "      <th>Insulin</th>\n",
       "      <th>HOMA</th>\n",
       "      <th>Leptin</th>\n",
       "      <th>Adiponectin</th>\n",
       "      <th>Resistin</th>\n",
       "      <th>MCP.1</th>\n",
       "      <th>Classification</th>\n",
       "    </tr>\n",
       "  </thead>\n",
       "  <tbody>\n",
       "    <tr>\n",
       "      <th>count</th>\n",
       "      <td>116.000000</td>\n",
       "      <td>116.000000</td>\n",
       "      <td>116.000000</td>\n",
       "      <td>116.000000</td>\n",
       "      <td>116.000000</td>\n",
       "      <td>116.000000</td>\n",
       "      <td>116.000000</td>\n",
       "      <td>116.000000</td>\n",
       "      <td>116.000000</td>\n",
       "      <td>116.000000</td>\n",
       "    </tr>\n",
       "    <tr>\n",
       "      <th>mean</th>\n",
       "      <td>57.301724</td>\n",
       "      <td>27.582111</td>\n",
       "      <td>97.793103</td>\n",
       "      <td>10.012086</td>\n",
       "      <td>2.694988</td>\n",
       "      <td>26.615080</td>\n",
       "      <td>10.180874</td>\n",
       "      <td>14.725966</td>\n",
       "      <td>534.647000</td>\n",
       "      <td>1.551724</td>\n",
       "    </tr>\n",
       "    <tr>\n",
       "      <th>std</th>\n",
       "      <td>16.112766</td>\n",
       "      <td>5.020136</td>\n",
       "      <td>22.525162</td>\n",
       "      <td>10.067768</td>\n",
       "      <td>3.642043</td>\n",
       "      <td>19.183294</td>\n",
       "      <td>6.843341</td>\n",
       "      <td>12.390646</td>\n",
       "      <td>345.912663</td>\n",
       "      <td>0.499475</td>\n",
       "    </tr>\n",
       "    <tr>\n",
       "      <th>min</th>\n",
       "      <td>24.000000</td>\n",
       "      <td>18.370000</td>\n",
       "      <td>60.000000</td>\n",
       "      <td>2.432000</td>\n",
       "      <td>0.467409</td>\n",
       "      <td>4.311000</td>\n",
       "      <td>1.656020</td>\n",
       "      <td>3.210000</td>\n",
       "      <td>45.843000</td>\n",
       "      <td>1.000000</td>\n",
       "    </tr>\n",
       "    <tr>\n",
       "      <th>25%</th>\n",
       "      <td>45.000000</td>\n",
       "      <td>22.973205</td>\n",
       "      <td>85.750000</td>\n",
       "      <td>4.359250</td>\n",
       "      <td>0.917966</td>\n",
       "      <td>12.313675</td>\n",
       "      <td>5.474283</td>\n",
       "      <td>6.881763</td>\n",
       "      <td>269.978250</td>\n",
       "      <td>1.000000</td>\n",
       "    </tr>\n",
       "    <tr>\n",
       "      <th>50%</th>\n",
       "      <td>56.000000</td>\n",
       "      <td>27.662416</td>\n",
       "      <td>92.000000</td>\n",
       "      <td>5.924500</td>\n",
       "      <td>1.380939</td>\n",
       "      <td>20.271000</td>\n",
       "      <td>8.352692</td>\n",
       "      <td>10.827740</td>\n",
       "      <td>471.322500</td>\n",
       "      <td>2.000000</td>\n",
       "    </tr>\n",
       "    <tr>\n",
       "      <th>75%</th>\n",
       "      <td>71.000000</td>\n",
       "      <td>31.241442</td>\n",
       "      <td>102.000000</td>\n",
       "      <td>11.189250</td>\n",
       "      <td>2.857787</td>\n",
       "      <td>37.378300</td>\n",
       "      <td>11.815970</td>\n",
       "      <td>17.755207</td>\n",
       "      <td>700.085000</td>\n",
       "      <td>2.000000</td>\n",
       "    </tr>\n",
       "    <tr>\n",
       "      <th>max</th>\n",
       "      <td>89.000000</td>\n",
       "      <td>38.578759</td>\n",
       "      <td>201.000000</td>\n",
       "      <td>58.460000</td>\n",
       "      <td>25.050342</td>\n",
       "      <td>90.280000</td>\n",
       "      <td>38.040000</td>\n",
       "      <td>82.100000</td>\n",
       "      <td>1698.440000</td>\n",
       "      <td>2.000000</td>\n",
       "    </tr>\n",
       "  </tbody>\n",
       "</table>\n",
       "</div>"
      ],
      "text/plain": [
       "              Age         BMI     Glucose     Insulin        HOMA      Leptin   \n",
       "count  116.000000  116.000000  116.000000  116.000000  116.000000  116.000000  \\\n",
       "mean    57.301724   27.582111   97.793103   10.012086    2.694988   26.615080   \n",
       "std     16.112766    5.020136   22.525162   10.067768    3.642043   19.183294   \n",
       "min     24.000000   18.370000   60.000000    2.432000    0.467409    4.311000   \n",
       "25%     45.000000   22.973205   85.750000    4.359250    0.917966   12.313675   \n",
       "50%     56.000000   27.662416   92.000000    5.924500    1.380939   20.271000   \n",
       "75%     71.000000   31.241442  102.000000   11.189250    2.857787   37.378300   \n",
       "max     89.000000   38.578759  201.000000   58.460000   25.050342   90.280000   \n",
       "\n",
       "       Adiponectin    Resistin        MCP.1  Classification  \n",
       "count   116.000000  116.000000   116.000000      116.000000  \n",
       "mean     10.180874   14.725966   534.647000        1.551724  \n",
       "std       6.843341   12.390646   345.912663        0.499475  \n",
       "min       1.656020    3.210000    45.843000        1.000000  \n",
       "25%       5.474283    6.881763   269.978250        1.000000  \n",
       "50%       8.352692   10.827740   471.322500        2.000000  \n",
       "75%      11.815970   17.755207   700.085000        2.000000  \n",
       "max      38.040000   82.100000  1698.440000        2.000000  "
      ]
     },
     "execution_count": 8,
     "metadata": {},
     "output_type": "execute_result"
    }
   ],
   "source": [
    "data.describe()"
   ]
  },
  {
   "cell_type": "code",
   "execution_count": 9,
   "id": "39641395",
   "metadata": {},
   "outputs": [
    {
     "data": {
      "text/plain": [
       "Age                 int64\n",
       "BMI               float64\n",
       "Glucose             int64\n",
       "Insulin           float64\n",
       "HOMA              float64\n",
       "Leptin            float64\n",
       "Adiponectin       float64\n",
       "Resistin          float64\n",
       "MCP.1             float64\n",
       "Classification      int64\n",
       "dtype: object"
      ]
     },
     "execution_count": 9,
     "metadata": {},
     "output_type": "execute_result"
    }
   ],
   "source": [
    "# checking for non-numeric data points\n",
    "data.dtypes"
   ]
  },
  {
   "cell_type": "markdown",
   "id": "cb7bcfda",
   "metadata": {},
   "source": [
    "As demonstrated, all the columns contain numerical values"
   ]
  },
  {
   "cell_type": "code",
   "execution_count": 10,
   "id": "10ce14fc",
   "metadata": {},
   "outputs": [
    {
     "name": "stdout",
     "output_type": "stream",
     "text": [
      "0\n"
     ]
    }
   ],
   "source": [
    "# cheking for total count of nan values\n",
    "print(data.isnull().sum().sum())"
   ]
  },
  {
   "cell_type": "markdown",
   "id": "3c5e6de9",
   "metadata": {},
   "source": [
    "# Data Preprocessing: \n",
    "\n",
    "In this section, the data is preprocessed by scaling the data, and then splitting it into training and testing sets:"
   ]
  },
  {
   "cell_type": "code",
   "execution_count": 12,
   "id": "07e2b528",
   "metadata": {},
   "outputs": [],
   "source": [
    "# defining x and y\n",
    "col_names = data.columns.tolist()\n",
    "col_names.remove(\"Classification\")\n",
    "x = data.loc[:, col_names]\n",
    "y = data.loc[:, \"Classification\"]"
   ]
  },
  {
   "cell_type": "code",
   "execution_count": 13,
   "id": "4dfdd70e",
   "metadata": {},
   "outputs": [],
   "source": [
    "# preprocessing \n",
    "scaler = StandardScaler()\n",
    "scaled_x = scaler.fit_transform(x)"
   ]
  },
  {
   "cell_type": "code",
   "execution_count": 14,
   "id": "c9cf74aa",
   "metadata": {},
   "outputs": [
    {
     "name": "stdout",
     "output_type": "stream",
     "text": [
      "[[-0.57979363 -0.81667527 -1.23922225 -0.72873938 -0.61428241 -0.93233407\n",
      "  -0.07022151 -0.54551749 -0.34125061]\n",
      " [ 1.60182096 -1.37875056 -0.25829943 -0.68803819 -0.54824045 -0.93041264\n",
      "  -0.69734988 -0.86421418 -0.1912238 ]\n",
      " [ 1.53948912 -0.89176446 -0.30288683 -0.55007314 -0.46475236 -0.45421914\n",
      "   1.79799836 -0.4416602   0.05821407]\n",
      " [ 0.66684328 -1.24330321 -0.92711044 -0.67696507 -0.57420965 -0.87602119\n",
      "  -0.44194467 -0.15886735  1.14271758]\n",
      " [ 1.7888165  -1.29460116 -0.25829943 -0.6447433  -0.52108087 -1.04268238\n",
      "  -0.78688094 -0.33635201  0.69471601]]\n"
     ]
    }
   ],
   "source": [
    "# printting the first 5 rows of the x array\n",
    "print(scaled_x[:5])"
   ]
  },
  {
   "cell_type": "code",
   "execution_count": 15,
   "id": "b5500bdf",
   "metadata": {},
   "outputs": [],
   "source": [
    "# splitting into training and testing sets\n",
    "x_train, x_test, y_train, y_test = train_test_split(scaled_x, y, test_size=0.25, random_state=0)"
   ]
  },
  {
   "cell_type": "code",
   "execution_count": 16,
   "id": "edc843e0",
   "metadata": {},
   "outputs": [
    {
     "data": {
      "text/plain": [
       "(87, 9)"
      ]
     },
     "execution_count": 16,
     "metadata": {},
     "output_type": "execute_result"
    }
   ],
   "source": [
    "x_train.shape"
   ]
  },
  {
   "cell_type": "code",
   "execution_count": 17,
   "id": "a5c7cf62",
   "metadata": {},
   "outputs": [
    {
     "data": {
      "text/plain": [
       "(29, 9)"
      ]
     },
     "execution_count": 17,
     "metadata": {},
     "output_type": "execute_result"
    }
   ],
   "source": [
    "x_test.shape"
   ]
  },
  {
   "cell_type": "markdown",
   "id": "552ca1ed",
   "metadata": {},
   "source": [
    "# Dimensionality Reduction using PCA:\n",
    "\n",
    "The next step in this classification project is to use PCA for identifying the most important features in the dataset by transforming the data into a new set of variables called principal components:"
   ]
  },
  {
   "cell_type": "code",
   "execution_count": 18,
   "id": "546aa4ab",
   "metadata": {},
   "outputs": [
    {
     "data": {
      "text/html": [
       "<style>#sk-container-id-1 {color: black;background-color: white;}#sk-container-id-1 pre{padding: 0;}#sk-container-id-1 div.sk-toggleable {background-color: white;}#sk-container-id-1 label.sk-toggleable__label {cursor: pointer;display: block;width: 100%;margin-bottom: 0;padding: 0.3em;box-sizing: border-box;text-align: center;}#sk-container-id-1 label.sk-toggleable__label-arrow:before {content: \"▸\";float: left;margin-right: 0.25em;color: #696969;}#sk-container-id-1 label.sk-toggleable__label-arrow:hover:before {color: black;}#sk-container-id-1 div.sk-estimator:hover label.sk-toggleable__label-arrow:before {color: black;}#sk-container-id-1 div.sk-toggleable__content {max-height: 0;max-width: 0;overflow: hidden;text-align: left;background-color: #f0f8ff;}#sk-container-id-1 div.sk-toggleable__content pre {margin: 0.2em;color: black;border-radius: 0.25em;background-color: #f0f8ff;}#sk-container-id-1 input.sk-toggleable__control:checked~div.sk-toggleable__content {max-height: 200px;max-width: 100%;overflow: auto;}#sk-container-id-1 input.sk-toggleable__control:checked~label.sk-toggleable__label-arrow:before {content: \"▾\";}#sk-container-id-1 div.sk-estimator input.sk-toggleable__control:checked~label.sk-toggleable__label {background-color: #d4ebff;}#sk-container-id-1 div.sk-label input.sk-toggleable__control:checked~label.sk-toggleable__label {background-color: #d4ebff;}#sk-container-id-1 input.sk-hidden--visually {border: 0;clip: rect(1px 1px 1px 1px);clip: rect(1px, 1px, 1px, 1px);height: 1px;margin: -1px;overflow: hidden;padding: 0;position: absolute;width: 1px;}#sk-container-id-1 div.sk-estimator {font-family: monospace;background-color: #f0f8ff;border: 1px dotted black;border-radius: 0.25em;box-sizing: border-box;margin-bottom: 0.5em;}#sk-container-id-1 div.sk-estimator:hover {background-color: #d4ebff;}#sk-container-id-1 div.sk-parallel-item::after {content: \"\";width: 100%;border-bottom: 1px solid gray;flex-grow: 1;}#sk-container-id-1 div.sk-label:hover label.sk-toggleable__label {background-color: #d4ebff;}#sk-container-id-1 div.sk-serial::before {content: \"\";position: absolute;border-left: 1px solid gray;box-sizing: border-box;top: 0;bottom: 0;left: 50%;z-index: 0;}#sk-container-id-1 div.sk-serial {display: flex;flex-direction: column;align-items: center;background-color: white;padding-right: 0.2em;padding-left: 0.2em;position: relative;}#sk-container-id-1 div.sk-item {position: relative;z-index: 1;}#sk-container-id-1 div.sk-parallel {display: flex;align-items: stretch;justify-content: center;background-color: white;position: relative;}#sk-container-id-1 div.sk-item::before, #sk-container-id-1 div.sk-parallel-item::before {content: \"\";position: absolute;border-left: 1px solid gray;box-sizing: border-box;top: 0;bottom: 0;left: 50%;z-index: -1;}#sk-container-id-1 div.sk-parallel-item {display: flex;flex-direction: column;z-index: 1;position: relative;background-color: white;}#sk-container-id-1 div.sk-parallel-item:first-child::after {align-self: flex-end;width: 50%;}#sk-container-id-1 div.sk-parallel-item:last-child::after {align-self: flex-start;width: 50%;}#sk-container-id-1 div.sk-parallel-item:only-child::after {width: 0;}#sk-container-id-1 div.sk-dashed-wrapped {border: 1px dashed gray;margin: 0 0.4em 0.5em 0.4em;box-sizing: border-box;padding-bottom: 0.4em;background-color: white;}#sk-container-id-1 div.sk-label label {font-family: monospace;font-weight: bold;display: inline-block;line-height: 1.2em;}#sk-container-id-1 div.sk-label-container {text-align: center;}#sk-container-id-1 div.sk-container {/* jupyter's `normalize.less` sets `[hidden] { display: none; }` but bootstrap.min.css set `[hidden] { display: none !important; }` so we also need the `!important` here to be able to override the default hidden behavior on the sphinx rendered scikit-learn.org. See: https://github.com/scikit-learn/scikit-learn/issues/21755 */display: inline-block !important;position: relative;}#sk-container-id-1 div.sk-text-repr-fallback {display: none;}</style><div id=\"sk-container-id-1\" class=\"sk-top-container\"><div class=\"sk-text-repr-fallback\"><pre>PCA(n_components=9)</pre><b>In a Jupyter environment, please rerun this cell to show the HTML representation or trust the notebook. <br />On GitHub, the HTML representation is unable to render, please try loading this page with nbviewer.org.</b></div><div class=\"sk-container\" hidden><div class=\"sk-item\"><div class=\"sk-estimator sk-toggleable\"><input class=\"sk-toggleable__control sk-hidden--visually\" id=\"sk-estimator-id-1\" type=\"checkbox\" checked><label for=\"sk-estimator-id-1\" class=\"sk-toggleable__label sk-toggleable__label-arrow\">PCA</label><div class=\"sk-toggleable__content\"><pre>PCA(n_components=9)</pre></div></div></div></div></div>"
      ],
      "text/plain": [
       "PCA(n_components=9)"
      ]
     },
     "execution_count": 18,
     "metadata": {},
     "output_type": "execute_result"
    }
   ],
   "source": [
    "# initialize PCA with all components\n",
    "pca = PCA(n_components = x_train.shape[1])\n",
    "pca.fit(x_train)"
   ]
  },
  {
   "cell_type": "code",
   "execution_count": 19,
   "id": "a9f88360",
   "metadata": {},
   "outputs": [
    {
     "name": "stdout",
     "output_type": "stream",
     "text": [
      "[0.33093471 0.15415912 0.14131269 0.13212096 0.08810296 0.06631177\n",
      " 0.04993219 0.03384928 0.00327633]\n"
     ]
    }
   ],
   "source": [
    "# calculating the variance explained by each principal component\n",
    "variance_ratios = pca.explained_variance_ratio_\n",
    "print(variance_ratios)"
   ]
  },
  {
   "cell_type": "code",
   "execution_count": 20,
   "id": "6688080a",
   "metadata": {},
   "outputs": [
    {
     "name": "stdout",
     "output_type": "stream",
     "text": [
      "[0.33093471 0.48509383 0.62640652 0.75852747 0.84663043 0.9129422\n",
      " 0.96287439 0.99672367 1.        ]\n"
     ]
    }
   ],
   "source": [
    "# calculating the cumulative sum of variance ratios\n",
    "total_variances = np.cumsum(variance_ratios)\n",
    "print(total_variances)"
   ]
  },
  {
   "cell_type": "code",
   "execution_count": 21,
   "id": "b644cdd5",
   "metadata": {},
   "outputs": [
    {
     "name": "stdout",
     "output_type": "stream",
     "text": [
      "7\n"
     ]
    }
   ],
   "source": [
    "# finding the optimal number of components that explain at least 95% variance\n",
    "optimal_num_components = len(total_variances[total_variances < 0.95]) + 1\n",
    "print(optimal_num_components)"
   ]
  },
  {
   "cell_type": "code",
   "execution_count": 22,
   "id": "953909bf",
   "metadata": {},
   "outputs": [],
   "source": [
    "# pca implementation \n",
    "pca_model = PCA(n_components=7)\n",
    "x_train_1 = pca_model.fit_transform(x_train)\n",
    "x_test_1 = pca_model.fit_transform(x_test)"
   ]
  },
  {
   "cell_type": "code",
   "execution_count": 23,
   "id": "d07e2911",
   "metadata": {},
   "outputs": [
    {
     "name": "stdout",
     "output_type": "stream",
     "text": [
      "[[ 2.19371853 -0.07441907  1.54958042  0.2396701  -1.59341642 -0.54215144\n",
      "  -0.04521363]\n",
      " [ 1.01648863 -0.70331427  0.37829746 -1.01281188 -1.87012806  0.16819431\n",
      "  -1.04193747]\n",
      " [-0.79053196 -0.39122349 -0.2944726   0.89919079  0.05234449 -0.2711025\n",
      "  -0.00668867]\n",
      " [-1.2877078   1.22879459 -1.22156349 -0.27238685 -0.20261977  0.61773847\n",
      "  -0.45884406]\n",
      " [-0.0451918  -1.0636857   0.06090113  1.32231329  0.0076772  -0.00755573\n",
      "  -0.35958109]]\n"
     ]
    }
   ],
   "source": [
    "print(x_train_1[:5])"
   ]
  },
  {
   "cell_type": "markdown",
   "id": "2d9db8d4",
   "metadata": {},
   "source": [
    "# Logistic Regression after PCA:\n",
    "\n",
    "Here, logistic regression is applied to the dataset after being condensed using PCA."
   ]
  },
  {
   "cell_type": "code",
   "execution_count": 24,
   "id": "199c8e5a",
   "metadata": {},
   "outputs": [],
   "source": [
    "# LR after pca\n",
    "LR_model = LogisticRegression(random_state = 0)\n",
    "LR_model.fit(x_train_1,y_train)\n",
    "y_pred_1 = LR_model.predict(x_test_1)"
   ]
  },
  {
   "cell_type": "markdown",
   "id": "e043089d",
   "metadata": {},
   "source": [
    "# Model Evaluation: \n",
    "Next, the model is evaluated by calculating various classification metrics such as accuracy, precision, recall, F1 score, and ROC AUC score."
   ]
  },
  {
   "cell_type": "code",
   "execution_count": 25,
   "id": "54a07057",
   "metadata": {},
   "outputs": [
    {
     "name": "stdout",
     "output_type": "stream",
     "text": [
      "[[ 5  7]\n",
      " [10  7]]\n"
     ]
    }
   ],
   "source": [
    "# pritting the confusion matrix of the model\n",
    "cm_1 = confusion_matrix(y_test, y_pred_1)\n",
    "print(cm_1)"
   ]
  },
  {
   "cell_type": "code",
   "execution_count": 26,
   "id": "3ad691fe",
   "metadata": {},
   "outputs": [
    {
     "data": {
      "text/plain": [
       "<Axes: >"
      ]
     },
     "execution_count": 26,
     "metadata": {},
     "output_type": "execute_result"
    },
    {
     "data": {
      "image/png": "[encoded data removed]",
      "text/plain": [
       "<Figure size 640x480 with 2 Axes>"
      ]
     },
     "metadata": {},
     "output_type": "display_data"
    }
   ],
   "source": [
    "sns.heatmap(cm_1 , annot=True)"
   ]
  },
  {
   "cell_type": "code",
   "execution_count": 27,
   "id": "63899332",
   "metadata": {},
   "outputs": [
    {
     "name": "stdout",
     "output_type": "stream",
     "text": [
      "Accuracy 0.41379310344827586\n",
      "Precision: 0.3333333333333333\n",
      "Recall: 0.4166666666666667\n",
      "F1 Score: 0.3703703703703704\n",
      "ROC AUC Score: 0.4142156862745098\n"
     ]
    }
   ],
   "source": [
    "# calculating various classification metrics\n",
    "accuracy_1 = accuracy_score(y_test, y_pred_1)\n",
    "print('Accuracy', accuracy_1)\n",
    "\n",
    "percision_1 = precision_score(y_test, y_pred_1)\n",
    "print('Precision:', percision_1)\n",
    "\n",
    "recall_1 = recall_score(y_test, y_pred_1)\n",
    "print('Recall:', recall_1)\n",
    "\n",
    "f1_1 = f1_score(y_test, y_pred_1)\n",
    "print('F1 Score:', f1_1)\n",
    "\n",
    "roc_auc_1 = roc_auc_score(y_test, y_pred_1)\n",
    "print('ROC AUC Score:', roc_auc_1)"
   ]
  },
  {
   "cell_type": "markdown",
   "id": "98da4577",
   "metadata": {},
   "source": [
    "# Dimensionality Reduction using LDA:\n",
    "\n",
    "The subsequent step in our classification project is to use LDA for finding a linear combination of features that best discriminates between different classes:"
   ]
  },
  {
   "cell_type": "code",
   "execution_count": 28,
   "id": "8e89856c",
   "metadata": {},
   "outputs": [],
   "source": [
    "# LDA\n",
    "lda_model = LinearDiscriminantAnalysis()\n",
    "x_train_2 = lda_model.fit_transform(x_train, y_train)\n",
    "x_test_2 = lda_model.fit_transform(x_test, y_test)"
   ]
  },
  {
   "cell_type": "code",
   "execution_count": 29,
   "id": "dc12a247",
   "metadata": {},
   "outputs": [
    {
     "name": "stdout",
     "output_type": "stream",
     "text": [
      "[[ 1.22359623]\n",
      " [-0.05720438]\n",
      " [-0.81754262]\n",
      " [-0.78173735]\n",
      " [-0.81279325]]\n"
     ]
    }
   ],
   "source": [
    "print(x_train_2[:5])"
   ]
  },
  {
   "cell_type": "markdown",
   "id": "d525e495",
   "metadata": {},
   "source": [
    "# Logistic Regression after LDA:\n",
    "\n",
    "And now, logistic regression is applied to the dataset after being condensed using LDA."
   ]
  },
  {
   "cell_type": "code",
   "execution_count": 30,
   "id": "a9a3461e",
   "metadata": {},
   "outputs": [],
   "source": [
    "# LR after lda\n",
    "LR_model_2 = LogisticRegression(random_state = 0)\n",
    "LR_model_2.fit(x_train_2,y_train)\n",
    "y_pred_2 = LR_model_2.predict(x_test_2)"
   ]
  },
  {
   "cell_type": "markdown",
   "id": "59838ee9",
   "metadata": {},
   "source": [
    "# Model Evaluation:\n",
    "\n",
    "Thus goes the evaluation process for the model with LDA:"
   ]
  },
  {
   "cell_type": "code",
   "execution_count": 31,
   "id": "44df6103",
   "metadata": {},
   "outputs": [
    {
     "name": "stdout",
     "output_type": "stream",
     "text": [
      "[[ 9  3]\n",
      " [ 4 13]]\n"
     ]
    }
   ],
   "source": [
    "# printting confusion matrix of the model\n",
    "cm_2 = confusion_matrix(y_test, y_pred_2)\n",
    "print(cm_2)"
   ]
  },
  {
   "cell_type": "code",
   "execution_count": 32,
   "id": "7828bca8",
   "metadata": {},
   "outputs": [
    {
     "data": {
      "text/plain": [
       "<Axes: >"
      ]
     },
     "execution_count": 32,
     "metadata": {},
     "output_type": "execute_result"
    },
    {
     "data": {
      "image/png": "[encoded data removed]",
      "text/plain": [
       "<Figure size 640x480 with 2 Axes>"
      ]
     },
     "metadata": {},
     "output_type": "display_data"
    }
   ],
   "source": [
    "sns.heatmap(cm_2 , annot=True)"
   ]
  },
  {
   "cell_type": "code",
   "execution_count": 33,
   "id": "90dd5fc6",
   "metadata": {},
   "outputs": [
    {
     "name": "stdout",
     "output_type": "stream",
     "text": [
      "Accuracy 0.7586206896551724\n",
      "Precision: 0.6923076923076923\n",
      "Recall: 0.75\n",
      "F1 Score: 0.7199999999999999\n",
      "ROC AUC Score: 0.7573529411764706\n"
     ]
    }
   ],
   "source": [
    "# calculating various classification metrics\n",
    "accuracy_2 = accuracy_score(y_test, y_pred_2)\n",
    "print('Accuracy', accuracy_2)\n",
    "\n",
    "percision_2 = precision_score(y_test, y_pred_2)\n",
    "print('Precision:', percision_2)\n",
    "\n",
    "recall_2 = recall_score(y_test, y_pred_2)\n",
    "print('Recall:', recall_2)\n",
    "\n",
    "f1_2 = f1_score(y_test, y_pred_2)\n",
    "print('F1 Score:', f1_2)\n",
    "\n",
    "roc_auc_2 = roc_auc_score(y_test, y_pred_2)\n",
    "print('ROC AUC Score:', roc_auc_2)"
   ]
  },
  {
   "cell_type": "markdown",
   "id": "3b9c30cf",
   "metadata": {},
   "source": [
    "# A comparison of the two classification models after PCA (Model 1) and LDA (Model 2): "
   ]
  },
  {
   "cell_type": "code",
   "execution_count": 34,
   "id": "8e7c3ad2",
   "metadata": {},
   "outputs": [],
   "source": [
    "# calculating the ROC curve for the first model\n",
    "fpr_1, tpr_1, thresholds_1 = roc_curve(y_test, y_pred_1, pos_label=2)\n",
    "# calculating the ROC curve for the second model\n",
    "fpr_2, tpr_2, thresholds_2 = roc_curve(y_test, y_pred_2, pos_label=2)"
   ]
  },
  {
   "cell_type": "code",
   "execution_count": 35,
   "id": "469e48c1",
   "metadata": {},
   "outputs": [
    {
     "data": {
      "image/png": "[encoded data removed]",
      "text/plain": [
       "<Figure size 640x480 with 1 Axes>"
      ]
     },
     "metadata": {},
     "output_type": "display_data"
    }
   ],
   "source": [
    "# plotting the ROC curves for both models\n",
    "plt.plot(fpr_1, tpr_1, label='Model 1 (AUC = %0.2f)' % roc_auc_1)\n",
    "plt.plot(fpr_2, tpr_2, label='Model 2 (AUC = %0.2f)' % roc_auc_2)\n",
    "plt.title('Receiver Operating Characteristic')\n",
    "plt.xlabel('False Positive Rate')\n",
    "plt.ylabel('True Positive Rate')\n",
    "plt.legend(loc=\"lower right\")\n",
    "plt.show()"
   ]
  },
  {
   "cell_type": "markdown",
   "id": "87c084fd",
   "metadata": {},
   "source": [
    "# Conclusion\n",
    "\n",
    "Based on statistical tests and a visualization of the ROC curves, it can be deduced that LDA is a more efficient dimensionality reduction algorithm than PCA for this dataset and in this classification task using Logistic Regression. "
   ]
  }
 ],
 "metadata": {
  "kernelspec": {
   "display_name": "Python 3 (ipykernel)",
   "language": "python",
   "name": "python3"
  },
  "language_info": {
   "codemirror_mode": {
    "name": "ipython",
    "version": 3
   },
   "file_extension": ".py",
   "mimetype": "text/x-python",
   "name": "python",
   "nbconvert_exporter": "python",
   "pygments_lexer": "ipython3",
   "version": "3.11.2"
  }
 },
 "nbformat": 4,
 "nbformat_minor": 5
}
